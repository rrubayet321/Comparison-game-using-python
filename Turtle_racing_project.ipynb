{
  "nbformat": 4,
  "nbformat_minor": 0,
  "metadata": {
    "colab": {
      "provenance": [],
      "authorship_tag": "ABX9TyN6w3IAFDuN1ZDT1RFuLmrm",
      "include_colab_link": true
    },
    "kernelspec": {
      "name": "python3",
      "display_name": "Python 3"
    },
    "language_info": {
      "name": "python"
    }
  },
  "cells": [
    {
      "cell_type": "markdown",
      "metadata": {
        "id": "view-in-github",
        "colab_type": "text"
      },
      "source": [
        "<a href=\"https://colab.research.google.com/github/rrubayet321/Comparison-game-using-python/blob/main/Turtle_racing_project.ipynb\" target=\"_parent\"><img src=\"https://colab.research.google.com/assets/colab-badge.svg\" alt=\"Open In Colab\"/></a>"
      ]
    },
    {
      "cell_type": "code",
      "execution_count": null,
      "metadata": {
        "id": "5Wtp265f2SdF"
      },
      "outputs": [],
      "source": [
        "from turtle import Turtle,Screen\n",
        "import random\n",
        "\n",
        "race_on= False\n",
        "\n",
        "screen= Screen()\n",
        "screen.setup(height=400, width=500)\n",
        "screen.title(\"Welcome to the turtle race\")\n",
        "user_bet= screen.textinput(title=\"Make your bet!\", prompt=\"Which turtle will win the race-Type the color!\")\n",
        "\n",
        "#for different color turtle\n",
        "color=[\"red\", \"orange\", \"blue\", \"green\", \"violet\", \"purple\"]\n",
        "y_positions= [-70, -40, -10, 20, 50,80]\n",
        "\n",
        "all_turtle= []\n",
        "for turtle_idx in range(6): # we need 5 turtles\n",
        "    new_turtle= Turtle(shape=\"turtle\")\n",
        "    new_turtle.penup()                                #starting position\n",
        "    new_turtle.color(color[turtle_idx])\n",
        "    new_turtle.goto(x=-230, y= y_positions[turtle_idx])\n",
        "    all_turtle.append(new_turtle)\n",
        "\n",
        "if user_bet:\n",
        "    race_on= True  #after the user places their bet only them the race will take place\n",
        "\n",
        "while race_on:\n",
        "    for each_turtle in all_turtle:\n",
        "        if each_turtle.xcor() > 230:\n",
        "            race_on= False\n",
        "            winner_turtle= each_turtle.pencolor()\n",
        "            if winner_turtle== user_bet:\n",
        "                print(f\"You have won. The winner is {winner_turtle} \")\n",
        "            else:\n",
        "                print(f\"You have lost the bet, however the winner is {winner_turtle}\")\n",
        "        random_distance= random.randint(0,10)\n",
        "        each_turtle.forward(random_distance)\n",
        "\n",
        "screen.exitonclick()"
      ]
    }
  ]
}